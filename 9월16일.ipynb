{
 "cells": [
  {
   "cell_type": "code",
   "execution_count": 12,
   "metadata": {},
   "outputs": [
    {
     "name": "stdout",
     "output_type": "stream",
     "text": [
      "Requirement already satisfied: pygame in c:\\users\\user\\anaconda3\\lib\\site-packages (1.9.6)\n",
      "Note: you may need to restart the kernel to use updated packages.\n"
     ]
    }
   ],
   "source": [
    "pip install pygame"
   ]
  },
  {
   "cell_type": "code",
   "execution_count": 87,
   "metadata": {},
   "outputs": [
    {
     "data": {
      "text/plain": [
       "(5, 1)"
      ]
     },
     "execution_count": 87,
     "metadata": {},
     "output_type": "execute_result"
    }
   ],
   "source": [
    "import sys\n",
    "import pygame\n",
    "import random\n",
    "from pygame.locals import QUIT, Rect, KEYDOWN, K_LEFT, K_RIGHT, K_UP, K_DOWN\n",
    "\n",
    "pygame.init()"
   ]
  },
  {
   "cell_type": "code",
   "execution_count": 94,
   "metadata": {},
   "outputs": [
    {
     "ename": "SystemExit",
     "evalue": "",
     "output_type": "error",
     "traceback": [
      "An exception has occurred, use %tb to see the full traceback.\n",
      "\u001b[1;31mSystemExit\u001b[0m\n"
     ]
    }
   ],
   "source": [
    "# 현대미술\n",
    "\n",
    "SURFACE = pygame.display.set_mode((800,600))\n",
    "pygame.display.set_caption('Game Window')\n",
    "\n",
    "def main() :\n",
    "    while True :\n",
    "        SURFACE.fill((255,255,255))\n",
    "        \n",
    "        for event in pygame.event.get() :\n",
    "            if event.type == QUIT :\n",
    "                pygame.quit()\n",
    "                sys.exit()\n",
    "                \n",
    "        pygame.draw.rect(SURFACE, (255,0,0), (100,100,200,200))\n",
    "        pygame.draw.rect(SURFACE, (0,255,0), (50,50,100,100), 3)\n",
    "        pygame.draw.rect(SURFACE, (0,0,255), ((100,80), (80,50)))\n",
    "        \n",
    "        rect0 = Rect(200,60,140,80)\n",
    "        pygame.draw.rect(SURFACE, (255,255,0), rect0)\n",
    "        \n",
    "        pygame.draw.line(SURFACE, (255,0,0), (10,80), (200,80))\n",
    "        pygame.draw.line(SURFACE, (0,0,255), (10,150), (200,150), 15)\n",
    "        pygame.draw.line(SURFACE, (0,255,0), (250,30), (250,200), 30)\n",
    "        \n",
    "        pygame.draw.circle(SURFACE, (255,0,255), (50,250), 10)\n",
    "        pygame.draw.circle(SURFACE, (0,255,0), (50,250), 10)\n",
    "        pygame.draw.circle(SURFACE, (255,255,0), (250,250), 30)\n",
    "        \n",
    "        pygame.display.update()\n",
    "        \n",
    "if __name__ == '__main__' :\n",
    "    main()"
   ]
  },
  {
   "cell_type": "code",
   "execution_count": null,
   "metadata": {},
   "outputs": [],
   "source": []
  },
  {
   "cell_type": "code",
   "execution_count": 93,
   "metadata": {},
   "outputs": [
    {
     "ename": "SystemExit",
     "evalue": "",
     "output_type": "error",
     "traceback": [
      "An exception has occurred, use %tb to see the full traceback.\n",
      "\u001b[1;31mSystemExit\u001b[0m\n"
     ]
    }
   ],
   "source": [
    "# 격자\n",
    "\n",
    "SURFACE = pygame.display.set_mode((800,600))\n",
    "pygame.display.set_caption('Game Window')\n",
    "\n",
    "def main() :\n",
    "    while True :\n",
    "        SURFACE.fill((0,0,0))\n",
    "        \n",
    "        for event in pygame.event.get() :\n",
    "            if event.type == QUIT :\n",
    "                pygame.quit()\n",
    "                sys.exit()\n",
    "        \n",
    "        for i in range(0, 800) :\n",
    "            r = random.randrange(80,127)\n",
    "            g = random.randrange(80,127)\n",
    "            b = random.randrange(80,127)\n",
    "\n",
    "            if i%2 == 0 :\n",
    "                pygame.draw.line(SURFACE, (r,r,r), (0,i*10), (800,i*5))\n",
    "            else :\n",
    "                pygame.draw.line(SURFACE, (r,r,r), (i*3,0), (i*15,600))\n",
    "        \n",
    "        pygame.display.update()\n",
    "        \n",
    "if __name__ == '__main__' :\n",
    "    main()"
   ]
  },
  {
   "cell_type": "code",
   "execution_count": null,
   "metadata": {},
   "outputs": [],
   "source": []
  },
  {
   "cell_type": "code",
   "execution_count": null,
   "metadata": {},
   "outputs": [],
   "source": []
  },
  {
   "cell_type": "code",
   "execution_count": 95,
   "metadata": {},
   "outputs": [
    {
     "ename": "SystemExit",
     "evalue": "",
     "output_type": "error",
     "traceback": [
      "An exception has occurred, use %tb to see the full traceback.\n",
      "\u001b[1;31mSystemExit\u001b[0m\n"
     ]
    }
   ],
   "source": [
    "# 키보드로 움직이기\n",
    "\n",
    "SURFACE = pygame.display.set_mode((800,600))\n",
    "pygame.display.set_caption('Game Window')\n",
    "pygame.key.set_repeat(5,5)\n",
    "\n",
    "def main() :\n",
    "    logo = pygame.image.load('recruit.png')\n",
    "    pos = [200, 150]\n",
    "    \n",
    "    while True :\n",
    "        SURFACE.fill((255,255,255))\n",
    "        \n",
    "        for event in pygame.event.get() :\n",
    "            if event.type == QUIT :\n",
    "                pygame.quit()\n",
    "                sys.exit()\n",
    "                \n",
    "            elif event.type == KEYDOWN :\n",
    "                if event.key == K_LEFT :\n",
    "                    pos[0] -= 5\n",
    "                elif event.key == K_RIGHT :\n",
    "                    pos[0] += 5\n",
    "                elif event.key == K_UP :\n",
    "                    pos[1] -= 5\n",
    "                elif event.key == K_DOWN :\n",
    "                    pos[1] += 5\n",
    "                \n",
    "        pos[0] = pos[0] % 800\n",
    "        pos[1] = pos[1] % 600\n",
    "        \n",
    "        SURFACE.fill((225,225,225))\n",
    "        \n",
    "        rect = logo.get_rect()\n",
    "        rect.center = pos\n",
    "        \n",
    "        SURFACE.blit(logo, rect)\n",
    "        \n",
    "        pygame.display.update()\n",
    "        \n",
    "if __name__ == '__main__' :\n",
    "    main()"
   ]
  },
  {
   "cell_type": "code",
   "execution_count": null,
   "metadata": {},
   "outputs": [],
   "source": []
  }
 ],
 "metadata": {
  "kernelspec": {
   "display_name": "Python 3",
   "language": "python",
   "name": "python3"
  },
  "language_info": {
   "codemirror_mode": {
    "name": "ipython",
    "version": 3
   },
   "file_extension": ".py",
   "mimetype": "text/x-python",
   "name": "python",
   "nbconvert_exporter": "python",
   "pygments_lexer": "ipython3",
   "version": "3.7.4"
  }
 },
 "nbformat": 4,
 "nbformat_minor": 2
}
