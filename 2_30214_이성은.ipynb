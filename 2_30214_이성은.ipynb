{
  "nbformat": 4,
  "nbformat_minor": 0,
  "metadata": {
    "colab": {
      "name": "2_30214_이성은.ipynb",
      "provenance": [],
      "collapsed_sections": [],
      "include_colab_link": true
    },
    "kernelspec": {
      "name": "python3",
      "display_name": "Python 3"
    }
  },
  "cells": [
    {
      "cell_type": "markdown",
      "metadata": {
        "id": "view-in-github",
        "colab_type": "text"
      },
      "source": [
        "<a href=\"https://colab.research.google.com/github/leesungeun07/Python/blob/master/2_30214_%EC%9D%B4%EC%84%B1%EC%9D%80.ipynb\" target=\"_parent\"><img src=\"https://colab.research.google.com/assets/colab-badge.svg\" alt=\"Open In Colab\"/></a>"
      ]
    },
    {
      "cell_type": "markdown",
      "metadata": {
        "id": "aA6rC-wPdiPJ",
        "colab_type": "text"
      },
      "source": [
        "# [연습문제1]\n",
        "\n",
        "*   학번은 위의 리스트 순으로 1부터 시작한다.\n",
        "*   60점 이상이면 합격, 그렇지 않으면 불합격\n",
        "\n",
        "*  다음 코드를 복사해서 부분을 완성하세요~\n",
        "\n",
        "```\n",
        "jumsu = [100, 75, 67, 45, 80]\n",
        "for i, val             ( ): # enumerate 사용\n",
        "    \n",
        "    if    >= 60: \n",
        "        print(\"  %  번 학생은 합격입니다.\"   %  )\n",
        "    \n",
        "        print(\"  %  번 학생은 불합격입니다.\"   %  )\n",
        "```\n",
        "[결과]\n",
        "#### 1번 학생은 합격입니다.\n",
        "#### 2번 학생은 합격입니다.\n",
        "#### 3번 학생은 합격입니다.\n",
        "#### 4번 학생은 불합격입니다.\n",
        "#### 5번 학생은 합격입니다.\n"
      ]
    },
    {
      "cell_type": "code",
      "metadata": {
        "id": "-Vti9aatiAeu",
        "colab_type": "code",
        "colab": {
          "base_uri": "https://localhost:8080/",
          "height": 107
        },
        "outputId": "6ee03731-7a6c-44a4-de6a-bc6502c00128"
      },
      "source": [
        "# your code\n",
        "jumsu = [100, 75, 69, 45, 80]\n",
        "for i, val in enumerate(jumsu):\n",
        "  if jumsu[i] >= 60:\n",
        "    print('%d' \"번 학생은 합격입니다.\" % (i+1))\n",
        "  else:\n",
        "    print('%d' \"번 학생은 불합격입니다.\" % (i+1))"
      ],
      "execution_count": 52,
      "outputs": [
        {
          "output_type": "stream",
          "text": [
            "1번 학생은 합격입니다.\n",
            "2번 학생은 합격입니다.\n",
            "3번 학생은 합격입니다.\n",
            "4번 학생은 불합격입니다.\n",
            "5번 학생은 합격입니다.\n"
          ],
          "name": "stdout"
        }
      ]
    },
    {
      "cell_type": "markdown",
      "metadata": {
        "id": "qGILRNvgiuuF",
        "colab_type": "text"
      },
      "source": [
        "# [연습문제2]\n",
        "\n",
        "*   다음 예시와 같이 DataFrame을 만드세요\n",
        "*   지역, 병상, 확진자, 사망자(사례 5개만들기) 숫자는 자유\n",
        "*   다음 코드를 복사해서 부분을 완성하세요~\n",
        "*   [결과](https://drive.google.com/open?id=1tw09Avk3ir4DQuqFy8qdXGfIbZo5xMIy)"
      ]
    },
    {
      "cell_type": "code",
      "metadata": {
        "id": "nyvYrQU2kJW_",
        "colab_type": "code",
        "colab": {}
      },
      "source": [
        "import pandas as pd"
      ],
      "execution_count": 0,
      "outputs": []
    },
    {
      "cell_type": "code",
      "metadata": {
        "id": "UkLRtVc5jTEd",
        "colab_type": "code",
        "colab": {}
      },
      "source": [
        "covid = {'지역': ['인천', '서울', '경기', '강원', '제주'],\n",
        "         '병상': [120, 210, 120, 24, 84],\n",
        "         '확진자': [27, 301, 132, 21, 54],\n",
        "         '사망자': [5, 11, 10, 7, 3]}"
      ],
      "execution_count": 0,
      "outputs": []
    },
    {
      "cell_type": "code",
      "metadata": {
        "id": "itHn5152jvND",
        "colab_type": "code",
        "colab": {}
      },
      "source": [
        "col_name=[          ]"
      ],
      "execution_count": 0,
      "outputs": []
    },
    {
      "cell_type": "code",
      "metadata": {
        "id": "FzoT5HBPkA9O",
        "colab_type": "code",
        "colab": {}
      },
      "source": [
        "df=pd.DataFrame(covid)"
      ],
      "execution_count": 0,
      "outputs": []
    },
    {
      "cell_type": "code",
      "metadata": {
        "id": "kL9OB8IXkOUg",
        "colab_type": "code",
        "outputId": "43595e15-c371-49f7-950d-2f5e137ee8be",
        "colab": {
          "base_uri": "https://localhost:8080/",
          "height": 204
        }
      },
      "source": [
        "df"
      ],
      "execution_count": 57,
      "outputs": [
        {
          "output_type": "execute_result",
          "data": {
            "text/html": [
              "<div>\n",
              "<style scoped>\n",
              "    .dataframe tbody tr th:only-of-type {\n",
              "        vertical-align: middle;\n",
              "    }\n",
              "\n",
              "    .dataframe tbody tr th {\n",
              "        vertical-align: top;\n",
              "    }\n",
              "\n",
              "    .dataframe thead th {\n",
              "        text-align: right;\n",
              "    }\n",
              "</style>\n",
              "<table border=\"1\" class=\"dataframe\">\n",
              "  <thead>\n",
              "    <tr style=\"text-align: right;\">\n",
              "      <th></th>\n",
              "      <th>지역</th>\n",
              "      <th>병상</th>\n",
              "      <th>확진자</th>\n",
              "      <th>사망자</th>\n",
              "    </tr>\n",
              "  </thead>\n",
              "  <tbody>\n",
              "    <tr>\n",
              "      <th>0</th>\n",
              "      <td>인천</td>\n",
              "      <td>120</td>\n",
              "      <td>27</td>\n",
              "      <td>5</td>\n",
              "    </tr>\n",
              "    <tr>\n",
              "      <th>1</th>\n",
              "      <td>서울</td>\n",
              "      <td>210</td>\n",
              "      <td>301</td>\n",
              "      <td>11</td>\n",
              "    </tr>\n",
              "    <tr>\n",
              "      <th>2</th>\n",
              "      <td>경기</td>\n",
              "      <td>120</td>\n",
              "      <td>132</td>\n",
              "      <td>10</td>\n",
              "    </tr>\n",
              "    <tr>\n",
              "      <th>3</th>\n",
              "      <td>강원</td>\n",
              "      <td>24</td>\n",
              "      <td>21</td>\n",
              "      <td>7</td>\n",
              "    </tr>\n",
              "    <tr>\n",
              "      <th>4</th>\n",
              "      <td>제주</td>\n",
              "      <td>84</td>\n",
              "      <td>54</td>\n",
              "      <td>3</td>\n",
              "    </tr>\n",
              "  </tbody>\n",
              "</table>\n",
              "</div>"
            ],
            "text/plain": [
              "   지역   병상  확진자  사망자\n",
              "0  인천  120   27    5\n",
              "1  서울  210  301   11\n",
              "2  경기  120  132   10\n",
              "3  강원   24   21    7\n",
              "4  제주   84   54    3"
            ]
          },
          "metadata": {
            "tags": []
          },
          "execution_count": 57
        }
      ]
    }
  ]
}