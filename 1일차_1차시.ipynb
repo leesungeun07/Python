{
  "nbformat": 4,
  "nbformat_minor": 0,
  "metadata": {
    "colab": {
      "name": "1일차_1차시.ipynb",
      "provenance": [],
      "authorship_tag": "ABX9TyOkuqmAhSdauc779Kph1v3I",
      "include_colab_link": true
    },
    "kernelspec": {
      "name": "python3",
      "display_name": "Python 3"
    }
  },
  "cells": [
    {
      "cell_type": "markdown",
      "metadata": {
        "id": "view-in-github",
        "colab_type": "text"
      },
      "source": [
        "<a href=\"https://colab.research.google.com/github/leesungeun07/Python/blob/master/1%EC%9D%BC%EC%B0%A8_1%EC%B0%A8%EC%8B%9C.ipynb\" target=\"_parent\"><img src=\"https://colab.research.google.com/assets/colab-badge.svg\" alt=\"Open In Colab\"/></a>"
      ]
    },
    {
      "cell_type": "code",
      "metadata": {
        "id": "7FHEEE9s33bQ",
        "colab_type": "code",
        "colab": {
          "base_uri": "https://localhost:8080/",
          "height": 35
        },
        "outputId": "02a64c04-1a39-4714-d4e3-2ab22eb931c2"
      },
      "source": [
        "a=1\n",
        "b=2\n",
        "print(a, b)\n",
        "# 주석"
      ],
      "execution_count": 4,
      "outputs": [
        {
          "output_type": "stream",
          "text": [
            "1 2\n"
          ],
          "name": "stdout"
        }
      ]
    },
    {
      "cell_type": "markdown",
      "metadata": {
        "id": "eV6YncP05zY2",
        "colab_type": "text"
      },
      "source": [
        "# **사칙연산**\n",
        "```\n",
        "+, -, *, **, /, //, %\n",
        "```\n",
        "\n"
      ]
    },
    {
      "cell_type": "code",
      "metadata": {
        "id": "Kd6jXOmW48Po",
        "colab_type": "code",
        "colab": {
          "base_uri": "https://localhost:8080/",
          "height": 143
        },
        "outputId": "5cf46f9b-4c4d-452d-be12-d056710dff12"
      },
      "source": [
        "a = 3\n",
        "b = 2\n",
        "print('a + b =', a+b)\n",
        "print('a - b =', a-b)\n",
        "print('a * b =', a*b)\n",
        "print('a ** b =', a**b)\n",
        "print('a / b =', a/b)\n",
        "print('a // b =', a//b)\n",
        "print('a % b =', a%b)"
      ],
      "execution_count": 6,
      "outputs": [
        {
          "output_type": "stream",
          "text": [
            "a + b = 5\n",
            "a - b = 1\n",
            "a * b = 6\n",
            "a ** b = 9\n",
            "a / b = 1.5\n",
            "a // b = 1\n",
            "a % b = 1\n"
          ],
          "name": "stdout"
        }
      ]
    }
  ]
}