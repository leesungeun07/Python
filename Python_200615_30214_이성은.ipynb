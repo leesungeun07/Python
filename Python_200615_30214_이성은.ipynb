{
 "cells": [
  {
   "cell_type": "code",
   "execution_count": 7,
   "metadata": {},
   "outputs": [
    {
     "name": "stdout",
     "output_type": "stream",
     "text": [
      "*\n",
      "**\n",
      "***\n",
      "****\n",
      "*****\n",
      "\n",
      "\n",
      "5\n",
      "54\n",
      "543\n",
      "5432\n",
      "54321\n",
      "\n",
      "\n",
      "54321\n",
      "5432\n",
      "543\n",
      "54\n",
      "5\n",
      "\n",
      "\n",
      "  1\n",
      "  12\n",
      " 123\n",
      " 1234\n",
      "12345\n"
     ]
    }
   ],
   "source": [
    "for i in range(5) :\n",
    "    for j in range(i+1) :\n",
    "        print('*', end='')\n",
    "    print()\n",
    "print('\\n')\n",
    "    \n",
    "for i in range(5) :\n",
    "    for j in range(i+1) :\n",
    "        print(5-j, end='')\n",
    "    print()\n",
    "print('\\n')\n",
    "\n",
    "for i in range(5, 0, -1) :\n",
    "    for j in range(i) :\n",
    "        print(5-j, end='')\n",
    "    print()\n",
    "print('\\n')\n",
    "\n",
    "for i in range(5) :\n",
    "    for j in range(2-int(i/2)) :\n",
    "        print(' ', end='')\n",
    "    for k in range(i+1) :\n",
    "        print(k+1, end='')\n",
    "    print()"
   ]
  },
  {
   "cell_type": "code",
   "execution_count": null,
   "metadata": {},
   "outputs": [],
   "source": []
  }
 ],
 "metadata": {
  "kernelspec": {
   "display_name": "Python 3",
   "language": "python",
   "name": "python3"
  },
  "language_info": {
   "codemirror_mode": {
    "name": "ipython",
    "version": 3
   },
   "file_extension": ".py",
   "mimetype": "text/x-python",
   "name": "python",
   "nbconvert_exporter": "python",
   "pygments_lexer": "ipython3",
   "version": "3.7.4"
  }
 },
 "nbformat": 4,
 "nbformat_minor": 2
}
